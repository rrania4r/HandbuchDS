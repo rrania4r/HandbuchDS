{
 "cells": [
  {
   "cell_type": "code",
   "execution_count": 6,
   "metadata": {},
   "outputs": [],
   "source": [
    "# Import the required libraries\n",
    "import os\n",
    "import pandas as pd\n",
    "import numpy as np\n",
    "\n",
    "import matplotlib.pyplot as plt  # for creating plots of the data\n",
    "from sklearn.model_selection import train_test_split\n",
    "from sklearn.metrics import confusion_matrix, roc_curve, auc, roc_auc_score\n",
    "import itertools\n",
    "\n",
    "# Import our own library, which has some utility functions and the Naive Bayes Classifier we created\n",
    "import CatNB \n"
   ]
  },
  {
   "cell_type": "code",
   "execution_count": 7,
   "metadata": {},
   "outputs": [],
   "source": [
    "# The dataset is in the Data folder (this is the same data as for the Logistic Regression Example)\n",
    "DATASET_PATH = 'Data/'\n",
    "\n",
    "# Read the data from the CSV file\n",
    "data_path = os.path.join(DATASET_PATH, 'census1.csv')\n",
    "censusData = pd.read_csv(data_path, na_values = [\"?\", \" ?\"], encoding = \"utf-7\") # we know that libreOffice is using utf-7 encoding\n",
    "\n",
    "# Because the CSV doesn't contain any header, we add column names \n",
    "# using the description from the original dataset website \n",
    "# http://mlr.cs.umass.edu/ml/machine-learning-databases/adult\n",
    "\n",
    "censusData.columns = [\n",
    "    \"Age\", \"WorkClass\", \"FnlWgt\",\n",
    "    \"Education\", \"EducationNum\", \"MaritalStatus\",\n",
    "    \"Occupation\", \"Relationship\", \"Race\", \"Gender\", \n",
    "    \"CapitalGain\", \"CapitalLoss\", \"HoursPerWeek\", \"NativeCountry\", \"Income\"]\n"
   ]
  },
  {
   "cell_type": "code",
   "execution_count": 4,
   "metadata": {},
   "outputs": [
    {
     "name": "stdout",
     "output_type": "stream",
     "text": [
      "   Age          WorkClass  FnlWgt   Education  EducationNum  \\\n",
      "0   50   Self-emp-not-inc   83311   Bachelors            13   \n",
      "1   38            Private  215646     HS-grad             9   \n",
      "2   53            Private  234721        11th             7   \n",
      "3   28            Private  338409   Bachelors            13   \n",
      "4   37            Private  284582     Masters            14   \n",
      "\n",
      "         MaritalStatus          Occupation    Relationship    Race   Gender  \\\n",
      "0   Married-civ-spouse     Exec-managerial         Husband   White     Male   \n",
      "1             Divorced   Handlers-cleaners   Not-in-family   White     Male   \n",
      "2   Married-civ-spouse   Handlers-cleaners         Husband   Black     Male   \n",
      "3   Married-civ-spouse      Prof-specialty            Wife   Black   Female   \n",
      "4   Married-civ-spouse     Exec-managerial            Wife   White   Female   \n",
      "\n",
      "   CapitalGain  CapitalLoss  HoursPerWeek   NativeCountry  Income  \n",
      "0            0            0            13   United-States   <=50K  \n",
      "1            0            0            40   United-States   <=50K  \n",
      "2            0            0            40   United-States   <=50K  \n",
      "3            0            0            40            Cuba   <=50K  \n",
      "4            0            0            40   United-States   <=50K  \n",
      "                Age        FnlWgt  EducationNum   CapitalGain   CapitalLoss  \\\n",
      "count  32560.000000  3.256000e+04  32560.000000  32560.000000  32560.000000   \n",
      "mean      38.581634  1.897818e+05     10.080590   1077.615172     87.306511   \n",
      "std       13.640642  1.055498e+05      2.572709   7385.402999    402.966116   \n",
      "min       17.000000  1.228500e+04      1.000000      0.000000      0.000000   \n",
      "25%       28.000000  1.178315e+05      9.000000      0.000000      0.000000   \n",
      "50%       37.000000  1.783630e+05     10.000000      0.000000      0.000000   \n",
      "75%       48.000000  2.370545e+05     12.000000      0.000000      0.000000   \n",
      "max       90.000000  1.484705e+06     16.000000  99999.000000   4356.000000   \n",
      "\n",
      "       HoursPerWeek  \n",
      "count  32560.000000  \n",
      "mean      40.437469  \n",
      "std       12.347618  \n",
      "min        1.000000  \n",
      "25%       40.000000  \n",
      "50%       40.000000  \n",
      "75%       45.000000  \n",
      "max       99.000000  \n",
      "<class 'pandas.core.frame.DataFrame'>\n",
      "RangeIndex: 32560 entries, 0 to 32559\n",
      "Data columns (total 15 columns):\n",
      "Age              32560 non-null int64\n",
      "WorkClass        30724 non-null object\n",
      "FnlWgt           32560 non-null int64\n",
      "Education        32560 non-null object\n",
      "EducationNum     32560 non-null int64\n",
      "MaritalStatus    32560 non-null object\n",
      "Occupation       30717 non-null object\n",
      "Relationship     32560 non-null object\n",
      "Race             32560 non-null object\n",
      "Gender           32560 non-null object\n",
      "CapitalGain      32560 non-null int64\n",
      "CapitalLoss      32560 non-null int64\n",
      "HoursPerWeek     32560 non-null int64\n",
      "NativeCountry    31977 non-null object\n",
      "Income           32560 non-null object\n",
      "dtypes: int64(6), object(9)\n",
      "memory usage: 3.7+ MB\n",
      "None\n"
     ]
    }
   ],
   "source": [
    "# Get to know the data with head, describe, and info methods\n",
    "\n",
    "# Visualise a table with the first rows of the dataset, to\n",
    "# better understand the data format\n",
    "print(censusData.head())\n",
    "print(censusData.describe())\n",
    "print(censusData.info())"
   ]
  },
  {
   "cell_type": "code",
   "execution_count": 8,
   "metadata": {},
   "outputs": [],
   "source": [
    "X = censusData.drop([\"Income\"], axis = 1)\n",
    "Y = censusData.Income\n",
    "# Now, lets split the data into train and test sets:\n",
    "X_train, X_test, Y_train, Y_test = train_test_split(X, Y, test_size = 0.2, random_state = 18)"
   ]
  },
  {
   "cell_type": "code",
   "execution_count": 9,
   "metadata": {},
   "outputs": [],
   "source": [
    "CNB = CatNB.CategoricalNaiveBayes()  # instantiate a Categorical Naive Bayes object "
   ]
  },
  {
   "cell_type": "code",
   "execution_count": 17,
   "metadata": {},
   "outputs": [
    {
     "data": {
      "text/html": [
       "<div>\n",
       "<style scoped>\n",
       "    .dataframe tbody tr th:only-of-type {\n",
       "        vertical-align: middle;\n",
       "    }\n",
       "\n",
       "    .dataframe tbody tr th {\n",
       "        vertical-align: top;\n",
       "    }\n",
       "\n",
       "    .dataframe thead th {\n",
       "        text-align: right;\n",
       "    }\n",
       "</style>\n",
       "<table border=\"1\" class=\"dataframe\">\n",
       "  <thead>\n",
       "    <tr style=\"text-align: right;\">\n",
       "      <th></th>\n",
       "      <th>WorkClass</th>\n",
       "      <th>Education</th>\n",
       "      <th>MaritalStatus</th>\n",
       "      <th>Occupation</th>\n",
       "      <th>Relationship</th>\n",
       "      <th>Race</th>\n",
       "      <th>Gender</th>\n",
       "      <th>NativeCountry</th>\n",
       "    </tr>\n",
       "    <tr>\n",
       "      <th>Income</th>\n",
       "      <th></th>\n",
       "      <th></th>\n",
       "      <th></th>\n",
       "      <th></th>\n",
       "      <th></th>\n",
       "      <th></th>\n",
       "      <th></th>\n",
       "      <th></th>\n",
       "    </tr>\n",
       "  </thead>\n",
       "  <tbody>\n",
       "    <tr>\n",
       "      <th>&lt;=50K</th>\n",
       "      <td>18429</td>\n",
       "      <td>19740</td>\n",
       "      <td>19740</td>\n",
       "      <td>18422</td>\n",
       "      <td>19740</td>\n",
       "      <td>19740</td>\n",
       "      <td>19740</td>\n",
       "      <td>19401</td>\n",
       "    </tr>\n",
       "    <tr>\n",
       "      <th>&gt;50K</th>\n",
       "      <td>6158</td>\n",
       "      <td>6308</td>\n",
       "      <td>6308</td>\n",
       "      <td>6158</td>\n",
       "      <td>6308</td>\n",
       "      <td>6308</td>\n",
       "      <td>6308</td>\n",
       "      <td>6196</td>\n",
       "    </tr>\n",
       "  </tbody>\n",
       "</table>\n",
       "</div>"
      ],
      "text/plain": [
       "        WorkClass  Education  MaritalStatus  Occupation  Relationship   Race  \\\n",
       "Income                                                                         \n",
       "<=50K       18429      19740          19740       18422         19740  19740   \n",
       ">50K         6158       6308           6308        6158          6308   6308   \n",
       "\n",
       "        Gender  NativeCountry  \n",
       "Income                         \n",
       "<=50K    19740          19401  \n",
       ">50K      6308           6196  "
      ]
     },
     "execution_count": 17,
     "metadata": {},
     "output_type": "execute_result"
    }
   ],
   "source": [
    "trainData = X_train.assign(Income = Y_train)\n",
    "model = CNB.fit(trainData)\n",
    "model.aggregateTotals"
   ]
  },
  {
   "cell_type": "markdown",
   "metadata": {},
   "source": [
    "Das Modell hat sich aus den Zensus Daten die Kategorischen Attributen ausgesucht.  Wir können hier schon eine Vorhersage machen, und dann eine Confusion Matrix mit dem Resultat erstellen."
   ]
  },
  {
   "cell_type": "code",
   "execution_count": 18,
   "metadata": {},
   "outputs": [],
   "source": [
    "testData = X_test.assign(Income = Y_test)\n",
    "Y_pred_NB = model.predict(testData)\n"
   ]
  },
  {
   "cell_type": "code",
   "execution_count": 19,
   "metadata": {},
   "outputs": [
    {
     "name": "stdout",
     "output_type": "stream",
     "text": [
      "Confusion matrix, without normalization\n",
      "[[4078  901]\n",
      " [ 382 1151]]\n",
      "Normalized confusion matrix\n",
      "[[0.82 0.18]\n",
      " [0.25 0.75]]\n"
     ]
    },
    {
     "data": {
      "image/png": "[encoded data removed]",
      "text/plain": [
       "<Figure size 432x288 with 2 Axes>"
      ]
     },
     "metadata": {
      "needs_background": "light"
     },
     "output_type": "display_data"
    },
    {
     "data": {
      "image/png": "[encoded data removed]",
      "text/plain": [
       "<Figure size 432x288 with 2 Axes>"
      ]
     },
     "metadata": {
      "needs_background": "light"
     },
     "output_type": "display_data"
    }
   ],
   "source": [
    "\n",
    "trueY = Y_test == \" >50K\"\n",
    "predY = Y_pred_NB.MaxClass == \">50K\"\n",
    "\n",
    "\n",
    "# Compute confusion matrix\n",
    "cnf_matrix = confusion_matrix(trueY, predY)\n",
    "\n",
    "np.set_printoptions(precision=2)\n",
    "\n",
    "# Plot non-normalized confusion matrix\n",
    "plt.figure()\n",
    "CatNB.plot_confusion_matrix(cnf_matrix, classes=[\"<=50K\", \">50K\"],\n",
    "                      title='Confusion matrix, without normalization')\n",
    "\n",
    "# Plot normalized confusion matrix\n",
    "plt.figure()\n",
    "CatNB.plot_confusion_matrix(cnf_matrix, classes=[\"<=50K\", \">50K\"], normalize = True,\n",
    "                      title='Confusion matrix, with normalization')"
   ]
  }
 ],
 "metadata": {
  "kernelspec": {
   "display_name": "Python 3",
   "language": "python",
   "name": "python3"
  },
  "language_info": {
   "codemirror_mode": {
    "name": "ipython",
    "version": 3
   },
   "file_extension": ".py",
   "mimetype": "text/x-python",
   "name": "python",
   "nbconvert_exporter": "python",
   "pygments_lexer": "ipython3",
   "version": "3.6.9"
  }
 },
 "nbformat": 4,
 "nbformat_minor": 2
}
